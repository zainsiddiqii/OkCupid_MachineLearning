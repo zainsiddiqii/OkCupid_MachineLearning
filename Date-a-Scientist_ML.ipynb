{
 "cells": [
  {
   "cell_type": "markdown",
   "metadata": {},
   "source": [
    "## Implemention of ML algorithms to gain insight about `orientation`!"
   ]
  },
  {
   "cell_type": "markdown",
   "metadata": {},
   "source": [
    "We will now start implementing the steps required to implement ML models, including, preprocessing, fitting, evaluating / tuning, testing, and then a final conclusion."
   ]
  },
  {
   "cell_type": "code",
   "execution_count": 1,
   "metadata": {},
   "outputs": [],
   "source": [
    "%store -r daters\n",
    "import pandas as pd\n",
    "import numpy as np\n",
    "import matplotlib.pyplot as plt\n",
    "plt.rcParams['figure.figsize'] = [6, 6]\n",
    "import seaborn as sns\n",
    "%timeit\n",
    "%matplotlib inline"
   ]
  },
  {
   "cell_type": "markdown",
   "metadata": {},
   "source": [
    "### Data preparation\n",
    "\n",
    "#### Missing Data\n",
    "\n",
    "Missing data is usually not handled well by ML algorithms and so we will either have to remove it or impute it."
   ]
  },
  {
   "cell_type": "code",
   "execution_count": 2,
   "metadata": {},
   "outputs": [
    {
     "data": {
      "text/plain": [
       "age                    0\n",
       "body_type           5295\n",
       "diet               24394\n",
       "drinks              2983\n",
       "drugs              14079\n",
       "education           6627\n",
       "essay0              5486\n",
       "essay1              7570\n",
       "essay2              9636\n",
       "essay3             11475\n",
       "essay4             10535\n",
       "essay5             10848\n",
       "essay6             13769\n",
       "essay7             12449\n",
       "essay8             19223\n",
       "essay9             12601\n",
       "ethnicity           5678\n",
       "height                 3\n",
       "income                 0\n",
       "job                 8197\n",
       "last_online            0\n",
       "location               0\n",
       "offspring          35560\n",
       "orientation            0\n",
       "pets               19919\n",
       "religion           20225\n",
       "sex                    0\n",
       "sign               11055\n",
       "smokes              5511\n",
       "speaks                50\n",
       "status                 0\n",
       "dietCleaned        24394\n",
       "religionCleaned    20225\n",
       "signCleaned        11055\n",
       "dtype: int64"
      ]
     },
     "execution_count": 2,
     "metadata": {},
     "output_type": "execute_result"
    }
   ],
   "source": [
    "daters.isnull().sum()"
   ]
  },
  {
   "cell_type": "markdown",
   "metadata": {},
   "source": [
    "#### Pre-processing\n",
    "\n",
    "Preparing the data for modelling is very important as it can both speed up the process as well as improve efficiency / accuracy. The old saying goes \"garbage in, garbage out\" so we want to make sure our data is suited well to the question we are trying to answer.\n",
    "\n",
    "We will only use a subset of the data to make our predictions. The variables were chosen as they seemed to be good potential predictors for the `orientation` labels.  \n",
    "\n",
    "We will also drop `NaN` values so that we have a complete dataset!"
   ]
  },
  {
   "cell_type": "code",
   "execution_count": 3,
   "metadata": {},
   "outputs": [
    {
     "data": {
      "text/plain": [
       "(13436, 10)"
      ]
     },
     "execution_count": 3,
     "metadata": {},
     "output_type": "execute_result"
    }
   ],
   "source": [
    "cols = ['orientation','body_type','dietCleaned','drinks','drugs',\\\n",
    "        'religionCleaned','sex','smokes','signCleaned','pets']\n",
    "df = daters[cols].dropna()\n",
    "df.shape"
   ]
  },
  {
   "cell_type": "markdown",
   "metadata": {},
   "source": [
    "#### Dummy variables\n",
    "\n",
    "We will convert the categorical variables into dummy variables for use in our ML models."
   ]
  },
  {
   "cell_type": "code",
   "execution_count": 4,
   "metadata": {},
   "outputs": [],
   "source": [
    "for col in cols[1:]:\n",
    "    df = pd.get_dummies(df, columns=[col], prefix=[col])"
   ]
  },
  {
   "cell_type": "code",
   "execution_count": 5,
   "metadata": {},
   "outputs": [
    {
     "data": {
      "text/html": [
       "<div>\n",
       "<style scoped>\n",
       "    .dataframe tbody tr th:only-of-type {\n",
       "        vertical-align: middle;\n",
       "    }\n",
       "\n",
       "    .dataframe tbody tr th {\n",
       "        vertical-align: top;\n",
       "    }\n",
       "\n",
       "    .dataframe thead th {\n",
       "        text-align: right;\n",
       "    }\n",
       "</style>\n",
       "<table border=\"1\" class=\"dataframe\">\n",
       "  <thead>\n",
       "    <tr style=\"text-align: right;\">\n",
       "      <th></th>\n",
       "      <th>orientation</th>\n",
       "      <th>body_type_a little extra</th>\n",
       "      <th>body_type_athletic</th>\n",
       "      <th>body_type_average</th>\n",
       "      <th>body_type_curvy</th>\n",
       "      <th>body_type_fit</th>\n",
       "      <th>body_type_full figured</th>\n",
       "      <th>body_type_jacked</th>\n",
       "      <th>body_type_overweight</th>\n",
       "      <th>body_type_rather not say</th>\n",
       "      <th>...</th>\n",
       "      <th>pets_has cats</th>\n",
       "      <th>pets_has dogs</th>\n",
       "      <th>pets_has dogs and dislikes cats</th>\n",
       "      <th>pets_has dogs and has cats</th>\n",
       "      <th>pets_has dogs and likes cats</th>\n",
       "      <th>pets_likes cats</th>\n",
       "      <th>pets_likes dogs</th>\n",
       "      <th>pets_likes dogs and dislikes cats</th>\n",
       "      <th>pets_likes dogs and has cats</th>\n",
       "      <th>pets_likes dogs and likes cats</th>\n",
       "    </tr>\n",
       "  </thead>\n",
       "  <tbody>\n",
       "    <tr>\n",
       "      <th>0</th>\n",
       "      <td>straight</td>\n",
       "      <td>1</td>\n",
       "      <td>0</td>\n",
       "      <td>0</td>\n",
       "      <td>0</td>\n",
       "      <td>0</td>\n",
       "      <td>0</td>\n",
       "      <td>0</td>\n",
       "      <td>0</td>\n",
       "      <td>0</td>\n",
       "      <td>...</td>\n",
       "      <td>0</td>\n",
       "      <td>0</td>\n",
       "      <td>0</td>\n",
       "      <td>0</td>\n",
       "      <td>0</td>\n",
       "      <td>0</td>\n",
       "      <td>0</td>\n",
       "      <td>0</td>\n",
       "      <td>0</td>\n",
       "      <td>1</td>\n",
       "    </tr>\n",
       "    <tr>\n",
       "      <th>1</th>\n",
       "      <td>straight</td>\n",
       "      <td>0</td>\n",
       "      <td>0</td>\n",
       "      <td>1</td>\n",
       "      <td>0</td>\n",
       "      <td>0</td>\n",
       "      <td>0</td>\n",
       "      <td>0</td>\n",
       "      <td>0</td>\n",
       "      <td>0</td>\n",
       "      <td>...</td>\n",
       "      <td>0</td>\n",
       "      <td>0</td>\n",
       "      <td>0</td>\n",
       "      <td>0</td>\n",
       "      <td>0</td>\n",
       "      <td>0</td>\n",
       "      <td>0</td>\n",
       "      <td>0</td>\n",
       "      <td>0</td>\n",
       "      <td>1</td>\n",
       "    </tr>\n",
       "    <tr>\n",
       "      <th>7</th>\n",
       "      <td>straight</td>\n",
       "      <td>0</td>\n",
       "      <td>0</td>\n",
       "      <td>1</td>\n",
       "      <td>0</td>\n",
       "      <td>0</td>\n",
       "      <td>0</td>\n",
       "      <td>0</td>\n",
       "      <td>0</td>\n",
       "      <td>0</td>\n",
       "      <td>...</td>\n",
       "      <td>0</td>\n",
       "      <td>0</td>\n",
       "      <td>0</td>\n",
       "      <td>0</td>\n",
       "      <td>0</td>\n",
       "      <td>0</td>\n",
       "      <td>0</td>\n",
       "      <td>0</td>\n",
       "      <td>0</td>\n",
       "      <td>1</td>\n",
       "    </tr>\n",
       "    <tr>\n",
       "      <th>9</th>\n",
       "      <td>straight</td>\n",
       "      <td>0</td>\n",
       "      <td>1</td>\n",
       "      <td>0</td>\n",
       "      <td>0</td>\n",
       "      <td>0</td>\n",
       "      <td>0</td>\n",
       "      <td>0</td>\n",
       "      <td>0</td>\n",
       "      <td>0</td>\n",
       "      <td>...</td>\n",
       "      <td>0</td>\n",
       "      <td>0</td>\n",
       "      <td>0</td>\n",
       "      <td>0</td>\n",
       "      <td>0</td>\n",
       "      <td>0</td>\n",
       "      <td>0</td>\n",
       "      <td>0</td>\n",
       "      <td>0</td>\n",
       "      <td>1</td>\n",
       "    </tr>\n",
       "    <tr>\n",
       "      <th>11</th>\n",
       "      <td>straight</td>\n",
       "      <td>0</td>\n",
       "      <td>0</td>\n",
       "      <td>1</td>\n",
       "      <td>0</td>\n",
       "      <td>0</td>\n",
       "      <td>0</td>\n",
       "      <td>0</td>\n",
       "      <td>0</td>\n",
       "      <td>0</td>\n",
       "      <td>...</td>\n",
       "      <td>0</td>\n",
       "      <td>0</td>\n",
       "      <td>0</td>\n",
       "      <td>0</td>\n",
       "      <td>0</td>\n",
       "      <td>1</td>\n",
       "      <td>0</td>\n",
       "      <td>0</td>\n",
       "      <td>0</td>\n",
       "      <td>0</td>\n",
       "    </tr>\n",
       "  </tbody>\n",
       "</table>\n",
       "<p>5 rows × 71 columns</p>\n",
       "</div>"
      ],
      "text/plain": [
       "   orientation  body_type_a little extra  body_type_athletic  \\\n",
       "0     straight                         1                   0   \n",
       "1     straight                         0                   0   \n",
       "7     straight                         0                   0   \n",
       "9     straight                         0                   1   \n",
       "11    straight                         0                   0   \n",
       "\n",
       "    body_type_average  body_type_curvy  body_type_fit  body_type_full figured  \\\n",
       "0                   0                0              0                       0   \n",
       "1                   1                0              0                       0   \n",
       "7                   1                0              0                       0   \n",
       "9                   0                0              0                       0   \n",
       "11                  1                0              0                       0   \n",
       "\n",
       "    body_type_jacked  body_type_overweight  body_type_rather not say  ...  \\\n",
       "0                  0                     0                         0  ...   \n",
       "1                  0                     0                         0  ...   \n",
       "7                  0                     0                         0  ...   \n",
       "9                  0                     0                         0  ...   \n",
       "11                 0                     0                         0  ...   \n",
       "\n",
       "    pets_has cats  pets_has dogs  pets_has dogs and dislikes cats  \\\n",
       "0               0              0                                0   \n",
       "1               0              0                                0   \n",
       "7               0              0                                0   \n",
       "9               0              0                                0   \n",
       "11              0              0                                0   \n",
       "\n",
       "    pets_has dogs and has cats  pets_has dogs and likes cats  pets_likes cats  \\\n",
       "0                            0                             0                0   \n",
       "1                            0                             0                0   \n",
       "7                            0                             0                0   \n",
       "9                            0                             0                0   \n",
       "11                           0                             0                1   \n",
       "\n",
       "    pets_likes dogs  pets_likes dogs and dislikes cats  \\\n",
       "0                 0                                  0   \n",
       "1                 0                                  0   \n",
       "7                 0                                  0   \n",
       "9                 0                                  0   \n",
       "11                0                                  0   \n",
       "\n",
       "    pets_likes dogs and has cats  pets_likes dogs and likes cats  \n",
       "0                              0                               1  \n",
       "1                              0                               1  \n",
       "7                              0                               1  \n",
       "9                              0                               1  \n",
       "11                             0                               0  \n",
       "\n",
       "[5 rows x 71 columns]"
      ]
     },
     "execution_count": 5,
     "metadata": {},
     "output_type": "execute_result"
    }
   ],
   "source": [
    "df.head()"
   ]
  },
  {
   "cell_type": "markdown",
   "metadata": {},
   "source": [
    "#### Label Imbalance\n",
    "\n",
    "An imbalance in the prediction label needs to be checked. This is important since it's a multi-class problem where two or more outcomes can be had. An imbalance in a response variable is bad since it means that some labels only occur a few times. This is an issue for machine learning algorithms if there are not enough data to train with which will give bad predictions."
   ]
  },
  {
   "cell_type": "code",
   "execution_count": null,
   "metadata": {},
   "outputs": [
    {
     "name": "stdout",
     "output_type": "stream",
     "text": [
      "straight    11573\n",
      "gay          1118\n",
      "bisexual      745\n",
      "Name: orientation, dtype: int64\n"
     ]
    }
   ],
   "source": [
    "print(df.orientation.value_counts())"
   ]
  },
  {
   "cell_type": "markdown",
   "metadata": {},
   "source": [
    "As we can see, our data contains WAY more straight people than gay or bisexual people. This means there is a massive label imbalance for our outcome variable!"
   ]
  },
  {
   "cell_type": "code",
   "execution_count": null,
   "metadata": {},
   "outputs": [
    {
     "name": "stdout",
     "output_type": "stream",
     "text": [
      "straight    745\n",
      "gay         745\n",
      "bisexual    745\n",
      "Name: orientation, dtype: int64\n"
     ]
    }
   ],
   "source": [
    "straight_sample = df[df.orientation == 'straight'].sample(745,random_state=1)\n",
    "gay_sample = df[df.orientation == 'gay'].sample(745,random_state = 1)\n",
    "bisexual_sample = df[df.orientation == 'bisexual']\n",
    "\n",
    "df = pd.concat([straight_sample,gay_sample,bisexual_sample])\n",
    "print(df.orientation.value_counts())"
   ]
  },
  {
   "cell_type": "markdown",
   "metadata": {},
   "source": [
    "#### Splitting Data\n",
    "\n",
    "The data needs to be split into a training and validation set. We will reserve 20% of the data for the validation set."
   ]
  },
  {
   "cell_type": "code",
   "execution_count": null,
   "metadata": {},
   "outputs": [
    {
     "data": {
      "text/plain": [
       "((1788,), (447,))"
      ]
     },
     "execution_count": 8,
     "metadata": {},
     "output_type": "execute_result"
    }
   ],
   "source": [
    "# select our predictor variables into X and our outcome variables into y\n",
    "X = df.iloc[:,1:]\n",
    "y = df.iloc[:,0]\n",
    "\n",
    "# import the train_test_split function from sklearn's model_selection module\n",
    "from sklearn.model_selection import train_test_split\n",
    "\n",
    "val_size = .2\n",
    "\n",
    "# split data into training and validation sets\n",
    "X_train, X_val, y_train, y_val = train_test_split(X,y,test_size=val_size,random_state=20)\n",
    "\n",
    "# turn into 1d-arrays\n",
    "y_train = y_train.to_numpy().ravel()\n",
    "y_val = y_val.to_numpy().ravel()\n",
    "\n",
    "y_train.shape, y_val.shape"
   ]
  },
  {
   "cell_type": "markdown",
   "metadata": {},
   "source": [
    "### Prediction\n",
    "\n",
    "#### Model building \n",
    "\n",
    "Now it's time to create some models, here is a list of [Multi class models](https://scikit-learn.org/stable/modules/multiclass.html) available in scikit learn. For this project three common algorithms will be used to make predictions.\n",
    "\n",
    "Below, the respective modules for Logistic Regression, Decision Trees, and KNN are loaded."
   ]
  },
  {
   "cell_type": "code",
   "execution_count": null,
   "metadata": {},
   "outputs": [],
   "source": [
    "from sklearn.linear_model import LogisticRegression\n",
    "from sklearn.tree import DecisionTreeClassifier\n",
    "from sklearn.neighbors import KNeighborsClassifier"
   ]
  },
  {
   "cell_type": "markdown",
   "metadata": {},
   "source": [
    "#### Evaluation Metrics\n",
    "\n",
    "In the models, there will be several values that can be evaluated:\n",
    "- **Accuracy:** is the correct values divided by total values\n",
    "- **Precision:** is the True Positives divided by the sum of True Positives and False Negatives. So precision is the values of the true positives divided by the actual positive values.\n",
    "- **Recall:** is the True Positives divided by the sum of True Positives and False Positives. So recall is the values of the true positives divided by the positive guesses.\n",
    "- **F1-score:** is a blended score of precision and recall which balances both values.\n",
    "- **Macro Avg:** is the unweighted mean value of precision and recall. \n",
    "- **Weighted Avg:** is the weighted mean value of precision and recall by the support values for each class.\n",
    "- **Support:** is the number of observations in class to predict. \n"
   ]
  },
  {
   "cell_type": "code",
   "execution_count": null,
   "metadata": {},
   "outputs": [],
   "source": [
    "from sklearn.metrics import accuracy_score\n",
    "from sklearn.metrics import classification_report"
   ]
  },
  {
   "cell_type": "markdown",
   "metadata": {},
   "source": [
    "#### MODEL 1: Logistic Regression"
   ]
  },
  {
   "cell_type": "code",
   "execution_count": null,
   "metadata": {},
   "outputs": [
    {
     "name": "stdout",
     "output_type": "stream",
     "text": [
      "The accuracy of our Logistic Regression model is 50.8%.\n"
     ]
    }
   ],
   "source": [
    "LogReg = LogisticRegression(multi_class='multinomial',max_iter=1000)\n",
    "LogReg.fit(X_train,y_train)\n",
    "LogReg_pred = LogReg.predict(X_val)\n",
    "LogReg_accuracy = accuracy_score(y_val,LogReg_pred)\n",
    "print(f'The accuracy of our Logistic Regression model is {np.round(LogReg_accuracy*100,1)}%.')"
   ]
  },
  {
   "cell_type": "code",
   "execution_count": null,
   "metadata": {},
   "outputs": [
    {
     "name": "stdout",
     "output_type": "stream",
     "text": [
      "              precision    recall  f1-score   support\n",
      "\n",
      "    bisexual       0.60      0.63      0.61       155\n",
      "         gay       0.39      0.51      0.44       126\n",
      "    straight       0.55      0.40      0.46       166\n",
      "\n",
      "    accuracy                           0.51       447\n",
      "   macro avg       0.51      0.51      0.50       447\n",
      "weighted avg       0.52      0.51      0.51       447\n",
      "\n"
     ]
    }
   ],
   "source": [
    "print(classification_report(y_val, LogReg_pred))"
   ]
  },
  {
   "cell_type": "markdown",
   "metadata": {},
   "source": [
    "Our Logistic Regression model does not seem to do bad, it has an accuracy of 50.8%! i.e. it makes correct predictions half of the time!"
   ]
  },
  {
   "cell_type": "markdown",
   "metadata": {},
   "source": [
    "#### MODEL 2: K Nearest Neighbours (KNN)\n",
    "\n",
    "The default number of neighbours is 5, but we will tune our `n_neighbours` parameter to obtain the best possible model!"
   ]
  },
  {
   "cell_type": "code",
   "execution_count": null,
   "metadata": {},
   "outputs": [
    {
     "name": "stdout",
     "output_type": "stream",
     "text": [
      "The accuracy of our K Nearest Neighbours Classifier using default hyperparameters is 45.9%.\n"
     ]
    }
   ],
   "source": [
    "KNN = KNeighborsClassifier()\n",
    "KNN.fit(X_train,y_train)\n",
    "KNN_preds = KNN.predict(X_val)\n",
    "KNN_default_accuracy = accuracy_score(y_val,KNN_preds)\n",
    "print(f'The accuracy of our K Nearest Neighbours Classifier using default hyperparameters \\\n",
    "is {np.round(KNN_default_accuracy*100,1)}%.')"
   ]
  },
  {
   "cell_type": "markdown",
   "metadata": {},
   "source": [
    "Let's now test the KNN algorithm using different `n_neighbours` to see how our accuracy changes, and whether we can find a better accuracy than using the default `n_neighbours = 5`:"
   ]
  },
  {
   "cell_type": "code",
   "execution_count": null,
   "metadata": {},
   "outputs": [],
   "source": [
    "ks, KNN_scores = [],[]\n",
    "for k in range(1,100):\n",
    "    KNN = KNeighborsClassifier(n_neighbors=k)\n",
    "    KNN.fit(X_train,y_train)\n",
    "    KNN_preds = KNN.predict(X_val)\n",
    "    KNN_accuracy = accuracy_score(y_val,KNN_preds)\n",
    "    ks.append(k)\n",
    "    KNN_scores.append(KNN_accuracy)"
   ]
  },
  {
   "cell_type": "code",
   "execution_count": null,
   "metadata": {},
   "outputs": [
    {
     "data": {
      "image/png": "[encoded data removed]",
      "text/plain": [
       "<Figure size 432x288 with 1 Axes>"
      ]
     },
     "metadata": {
      "needs_background": "light"
     },
     "output_type": "display_data"
    },
    {
     "name": "stdout",
     "output_type": "stream",
     "text": [
      "     k  accuracy\n",
      "76  77  0.523490\n",
      "81  82  0.523490\n",
      "59  60  0.521253\n",
      "57  58  0.521253\n",
      "55  56  0.521253\n",
      "Our best K Nearest Neighbours model is obtained with k = 77 with an accuracy of 52.3%.\n"
     ]
    }
   ],
   "source": [
    "ks = np.array(ks)\n",
    "KNN_scores = np.array(KNN_scores)\n",
    "plt.plot(ks,KNN_scores)\n",
    "plt.xlabel('Nearest neighbours (k)')\n",
    "plt.ylabel('Accuracy')\n",
    "plt.title('Plot of Accuracy against k')\n",
    "\n",
    "plt.show()\n",
    "\n",
    "# make DataFrame of k's with corresponding accuracies for easy access\n",
    "KNN_scores_df = pd.DataFrame({'k':ks,'accuracy':KNN_scores})\n",
    "\n",
    "# get top 5 k's with best accuracies\n",
    "print(KNN_scores_df.sort_values(by='accuracy',ascending=False)[:5])\n",
    "\n",
    "KNN_best_k = KNN_scores_df.iloc[KNN_scores_df.accuracy.argmax(),0]\n",
    "KNN_best_k_accuracy = KNN_scores_df.accuracy.max()\n",
    "\n",
    "print(f'Our best K Nearest Neighbours model is obtained with k = {KNN_best_k} \\\n",
    "with an accuracy of {np.round(KNN_best_k_accuracy*100,1)}%.')"
   ]
  },
  {
   "cell_type": "markdown",
   "metadata": {},
   "source": [
    "Our best KNN model is obtained with k = 77 or k = 82 (nearest neighbours). Our accuracy is slightly higher than the Logistic Regression model, indicating this is a potentially better model to use! "
   ]
  },
  {
   "cell_type": "markdown",
   "metadata": {},
   "source": [
    "#### MODEL 3: Decision Trees"
   ]
  },
  {
   "cell_type": "code",
   "execution_count": null,
   "metadata": {},
   "outputs": [
    {
     "name": "stdout",
     "output_type": "stream",
     "text": [
      "The accuracy of our Decision Tree model with default parameters is 43.0%.\n"
     ]
    }
   ],
   "source": [
    "DTree = DecisionTreeClassifier(random_state=0)\n",
    "DTree.fit(X_train,y_train)\n",
    "DTree_preds = DTree.predict(X_val)\n",
    "DTree_default_accuracy = accuracy_score(y_val,DTree_preds)\n",
    "print(f'The accuracy of our Decision Tree model with default parameters is \\\n",
    "{np.round(DTree_default_accuracy*100,1)}%.')"
   ]
  },
  {
   "cell_type": "markdown",
   "metadata": {},
   "source": [
    "Our default decision tree with default hyperparameters (cost complexity parameter (ccp_alpha) set to zero and automatic max_depth) gives us a bad accuracy_score. Below, we will change the max_depth as well as ccp_alpha to get a better model and try to avoid overfitting!\n",
    "\n",
    "*Note*: **We will keep the random_state parameter set to 0 so that we don't randomise our trees everytime!**\n",
    "\n",
    "*Note*: **The terms score and accuracy are used (and will be used here) interchangeably in ML jargon**"
   ]
  },
  {
   "cell_type": "code",
   "execution_count": null,
   "metadata": {},
   "outputs": [
    {
     "data": {
      "text/plain": [
       "{'ccp_alpha': 0.0,\n",
       " 'class_weight': None,\n",
       " 'criterion': 'gini',\n",
       " 'max_depth': None,\n",
       " 'max_features': None,\n",
       " 'max_leaf_nodes': None,\n",
       " 'min_impurity_decrease': 0.0,\n",
       " 'min_samples_leaf': 1,\n",
       " 'min_samples_split': 2,\n",
       " 'min_weight_fraction_leaf': 0.0,\n",
       " 'random_state': 0,\n",
       " 'splitter': 'best'}"
      ]
     },
     "execution_count": 17,
     "metadata": {},
     "output_type": "execute_result"
    }
   ],
   "source": [
    "# See hyperparameters we can set in DecisionTreesClassifier()\n",
    "DTree.get_params()"
   ]
  },
  {
   "cell_type": "markdown",
   "metadata": {},
   "source": [
    "#### 3.1 Finding best depth (`max_depth`) leaving other hyperparameters as default\n",
    "\n",
    "We set a range of depths to test our classifier against, and then find the depth that gives us the best score."
   ]
  },
  {
   "cell_type": "code",
   "execution_count": null,
   "metadata": {},
   "outputs": [],
   "source": [
    "# set range of depths we will test\n",
    "depths_to_test = range(1,21)\n",
    "\n",
    "# initialise list to store the classifiers with max_depth changed\n",
    "clfs_DepthOnly = []\n",
    "for depth in depths_to_test:\n",
    "    clf = DecisionTreeClassifier(max_depth=depth,random_state=0)\n",
    "    clf.fit(X_train,y_train)\n",
    "    clfs_DepthOnly.append(clf)\n",
    "    \n",
    "# store train and test scores for classifiers\n",
    "clfs_DepthOnly_train_scores = [clf.score(X_train,y_train) for clf in clfs_DepthOnly]\n",
    "clfs_DepthOnly_test_scores = [clf.score(X_val,y_val) for clf in clfs_DepthOnly]"
   ]
  },
  {
   "cell_type": "markdown",
   "metadata": {},
   "source": [
    "We can now plot both the train and test scores against the different depths to visualise how our accuracy changes with `max_depth`:"
   ]
  },
  {
   "cell_type": "code",
   "execution_count": null,
   "metadata": {},
   "outputs": [
    {
     "data": {
      "image/png": "[encoded data removed]",
      "text/plain": [
       "<Figure size 1008x576 with 1 Axes>"
      ]
     },
     "metadata": {
      "needs_background": "light"
     },
     "output_type": "display_data"
    }
   ],
   "source": [
    "fig= plt.figure(figsize=(14,8))\n",
    "ax = fig.add_subplot()\n",
    "ax.set_xlabel(\"depth\")\n",
    "ax.set_ylabel(\"accuracy\")\n",
    "ax.set_title(\"Accuracy vs depth for training and testing sets\")\n",
    "ax.plot(depths_to_test, clfs_DepthOnly_train_scores, marker=\"o\", label=\"train\", drawstyle=\"steps-post\")\n",
    "ax.plot(depths_to_test, clfs_DepthOnly_test_scores, marker=\"o\", label=\"test\", drawstyle=\"steps-post\")\n",
    "ax.legend()\n",
    "plt.show()"
   ]
  },
  {
   "cell_type": "markdown",
   "metadata": {},
   "source": [
    "We can see that as the depth increases, our model becomes more prone to overfitting as the train score goes up but the test score comes down. The sweet spot is somehwere between 7.5 and 10!\n",
    "\n",
    "Below, we find the exact depth that gives us the best test score:"
   ]
  },
  {
   "cell_type": "code",
   "execution_count": null,
   "metadata": {},
   "outputs": [
    {
     "name": "stdout",
     "output_type": "stream",
     "text": [
      "Our best Decision Tree changing only max_depth and leaving other hyperparameters default gives an accuracy of 51.2% with max_depth = 8.\n"
     ]
    }
   ],
   "source": [
    "# create array of depths and correspoending accuracies for easy access\n",
    "dt_DepthOnly_accuracy_array = np.array(list(zip(depths_to_test,clfs_DepthOnly_test_scores)))\n",
    "\n",
    "# get best depth and corresponding accuracy leaving other hyperparameters default\n",
    "best_depth_other_hyperparams_default = np.argmax(dt_DepthOnly_accuracy_array[:,1])+1 #add 1 as index starts from 0\n",
    "best_depth_other_hyperparams_default_accuracy = np.array(clfs_DepthOnly_test_scores).max()\n",
    "\n",
    "print(f'Our best Decision Tree changing only max_depth and leaving other hyperparameters default \\\n",
    "gives an accuracy of {np.round(best_depth_other_hyperparams_default_accuracy*100,1)}% \\\n",
    "with max_depth = {best_depth_other_hyperparams_default}.')"
   ]
  },
  {
   "cell_type": "markdown",
   "metadata": {},
   "source": [
    "`max_depth` = 8 gives the best accuracy with other hypermarameters default! We can already see how our accuracy has improved by tuning this hyperparameter! \n",
    "\n",
    "Let's now see how our model performs using different 'Cost Complexity Parameters' or CCPs (ccp_alpha)!"
   ]
  },
  {
   "cell_type": "markdown",
   "metadata": {},
   "source": [
    "#### 3.2 Finding best CCP (`ccp_alpha`) leaving otherhyperparameters as default\n",
    "\n",
    "We build classifiers with different ccp's and then find the ccp that gives us the best score."
   ]
  },
  {
   "cell_type": "code",
   "execution_count": null,
   "metadata": {},
   "outputs": [],
   "source": [
    "# get different ccp_alphas to test\n",
    "path = DTree.cost_complexity_pruning_path(X_train,y_train)\n",
    "ccp_alphas_to_test = path.ccp_alphas\n",
    "\n",
    "# initialise list to store the classifiers with ccp_alpha changed\n",
    "clfs_CCPOnly = []\n",
    "for ccp_alpha in ccp_alphas_to_test:\n",
    "    clf = DecisionTreeClassifier(ccp_alpha=ccp_alpha,random_state=0)\n",
    "    clf.fit(X_train, y_train)\n",
    "    clfs_CCPOnly.append(clf)\n",
    "\n",
    "# we remove the trivial tree which has only one node\n",
    "clfs_CCPOnly = clfs_CCPOnly[:-1]\n",
    "ccp_alphas_to_test = ccp_alphas_to_test[:-1]\n",
    "\n",
    "# store train and test scores for classifiers\n",
    "clfs_CCPOnly_train_scores = [clf.score(X_train,y_train) for clf in clfs_CCPOnly]\n",
    "clfs_CCPOnly_test_scores = [clf.score(X_val,y_val) for clf in clfs_CCPOnly]"
   ]
  },
  {
   "cell_type": "markdown",
   "metadata": {},
   "source": [
    "We can now plot both the train and test scores against the different CCPs to visualise how our accuracy changes with `ccp_alpha`:"
   ]
  },
  {
   "cell_type": "code",
   "execution_count": null,
   "metadata": {},
   "outputs": [],
   "source": [
    "fig= plt.figure(figsize=(14,8))\n",
    "ax = fig.add_subplot()\n",
    "ax.set_xlabel(\"alpha\")\n",
    "ax.set_ylabel(\"accuracy\")\n",
    "ax.set_title(\"Accuracy vs alpha for training and testing sets\")\n",
    "ax.plot(ccp_alphas_to_test, clfs_CCPOnly_train_scores, marker=\"o\", label=\"train\", drawstyle=\"steps-post\")\n",
    "ax.plot(ccp_alphas_to_test, clfs_CCPOnly_test_scores, marker=\"o\", label=\"test\", drawstyle=\"steps-post\")\n",
    "ax.legend()\n",
    "plt.show()"
   ]
  },
  {
   "cell_type": "markdown",
   "metadata": {},
   "source": [
    "We can see that values of alpha close to 0 lead to overfitting since the train score is very high compared to the test score, so just from eyeballing, a value around 0.00125 seems to give the best accuracy score!\n",
    "\n",
    "Below, we will find the CCP that gives us the best test score:"
   ]
  },
  {
   "cell_type": "code",
   "execution_count": null,
   "metadata": {},
   "outputs": [],
   "source": [
    "# get ccp_alpha that gives best accuracy\n",
    "dt_CCPOnly_accuracy_df = pd.DataFrame({'ccp_alpha':ccp_alphas_to_test,'accuracy':clfs_CCPOnly_test_scores})\n",
    "\n",
    "best_ccp_other_hyperparams_default = dt_CCPOnly_accuracy_df.iloc[dt_CCPOnly_accuracy_df.accuracy.argmax(),0]\n",
    "best_ccp_other_hyperparams_default_accuracy = dt_CCPOnly_accuracy_df.accuracy.max() \n",
    "\n",
    "print(f'Our best Decision Tree changing only ccp_alpha and leaving other hyperparameters default \\\n",
    "gives an accuracy of {np.round(best_ccp_other_hyperparams_default_accuracy*100,1)}% \\\n",
    "with ccp_alpha = {best_ccp_other_hyperparams_default}.')"
   ]
  },
  {
   "cell_type": "markdown",
   "metadata": {},
   "source": [
    "`ccp_alpha` ~ 0.001094 gives the best accuracy with other hypermarameters default! This is a s;ight improvement over the model where we only changed the `max_depth`."
   ]
  },
  {
   "cell_type": "markdown",
   "metadata": {},
   "source": [
    "#### 3.3 Finding best combination of `ccp_alpha` and `max_depth`\n",
    "\n",
    "We can now choose our final Decision Tree, by first selecting the DecisionTree with the ccp that gives the best accuracy, and then testing this tree with different depths to get the best Tree obtained by tuning these two hyperparameters!"
   ]
  },
  {
   "cell_type": "code",
   "execution_count": null,
   "metadata": {},
   "outputs": [],
   "source": [
    "# intialise empty list to store our final decision trees\n",
    "final_DecisionTrees = []\n",
    "\n",
    "# test dtree with best ccp_alpha using different depths\n",
    "for depth in depths_to_test:\n",
    "    clf = DecisionTreeClassifier(max_depth=depth,\\\n",
    "                                 ccp_alpha=best_ccp_other_hyperparams_default,\\\n",
    "                                 random_state=0)\n",
    "    clf.fit(X_train,y_train)\n",
    "    final_DecisionTrees.append(clf)\n",
    "    \n",
    "final_DecisionTrees_train_scores = [dt.score(X_train, y_train) for dt in final_DecisionTrees]\n",
    "final_DecisionTrees_test_scores = [dt.score(X_val, y_val) for dt in final_DecisionTrees]"
   ]
  },
  {
   "cell_type": "markdown",
   "metadata": {},
   "source": [
    "We can now plot both the train and test scores against the different depths to visualise how our accuracy changes with `max_depth`:"
   ]
  },
  {
   "cell_type": "code",
   "execution_count": null,
   "metadata": {},
   "outputs": [],
   "source": [
    "fig= plt.figure(figsize=(14,8))\n",
    "ax = fig.add_subplot()\n",
    "ax.set_xlabel(\"depth\")\n",
    "ax.set_ylabel(\"accuracy\")\n",
    "ax.set_title(\"Accuracy vs depth for training and testing sets for previous best alpha\")\n",
    "ax.plot(depths_to_test, final_DecisionTrees_train_scores, marker=\"o\", label=\"train\", drawstyle=\"steps-post\")\n",
    "ax.plot(depths_to_test, final_DecisionTrees_test_scores, marker=\"o\", label=\"test\", drawstyle=\"steps-post\")\n",
    "ax.legend()\n",
    "plt.show()"
   ]
  },
  {
   "cell_type": "code",
   "execution_count": null,
   "metadata": {},
   "outputs": [],
   "source": [
    "finalDTree_depths_accuracy_df = pd.DataFrame({'depths':pd.Series(depths_to_test),'accuracy':final_DecisionTrees_test_scores})\n",
    "finalDTree_max_acc = finalDTree_depths_accuracy_df.accuracy.max()\n",
    "finalDTree_max_acc_depth = finalDTree_depths_accuracy_df.iloc[finalDTree_depths_accuracy_df.accuracy.argmax(),0]\n",
    "finalDTree_max_acc_alpha = best_ccp_other_hyperparams_default\n",
    "\n",
    "print(f'The best accuracy of {np.round(finalDTree_max_acc*100,1)}% in our final DecisionTreeClassifier \\\n",
    "was obtained with a max_depth of {finalDTree_max_acc_depth} \\\n",
    "and cost complexity parameter alpha of {finalDTree_max_acc_alpha}.')"
   ]
  },
  {
   "cell_type": "markdown",
   "metadata": {},
   "source": [
    "### Conclusion\n",
    "\n",
    "In this project, machine learning using scikit-learn was used to predict the sexual orientation of users on OkCupid's dating app. We tried 3 different supervised algorithms, but got no farther predicting correct labels only half of the time. We had to significantly reduce the size of our dataset due to label imbalance as the majority of users have their sexual orientation as straight. A suggestion to OkCupid is to attract more gay and bisexual people towards their apps. We present a final breakdown summary of how each model performed below!"
   ]
  },
  {
   "cell_type": "markdown",
   "metadata": {},
   "source": [
    "1. Create heatmap of confusion matrix for each model to visualise where the model went wrong:"
   ]
  },
  {
   "cell_type": "code",
   "execution_count": null,
   "metadata": {},
   "outputs": [],
   "source": [
    "from sklearn.metrics import confusion_matrix\n",
    "\n",
    "best_DTree = DecisionTreeClassifier(random_state=0,\\\n",
    "                                    max_depth=finalDTree_max_acc_depth,\\\n",
    "                                    ccp_alpha=finalDTree_max_acc_alpha)\n",
    "\n",
    "%timeit best_DTree.fit(X_train,y_train)\n",
    "best_DTree_pred = best_DTree.predict(X_val)\n",
    "best_DTree_cm = confusion_matrix(y_val, best_DTree_pred)\n",
    "best_DTree_labels = best_DTree.classes_\n",
    "\n",
    "best_KNN = KNeighborsClassifier(n_neighbors=KNN_best_k)\n",
    "\n",
    "%timeit best_KNN.fit(X_train,y_train)\n",
    "best_KNN_pred = best_KNN.predict(X_val)\n",
    "best_KNN_cm = confusion_matrix(y_val, best_KNN_pred)\n",
    "best_KNN_labels = best_KNN.classes_\n",
    "\n",
    "best_LogReg = LogisticRegression(max_iter=500)\n",
    "%timeit best_LogReg.fit(X_train,y_train)\n",
    "best_LogReg_pred = best_LogReg.predict(X_val)\n",
    "LogReg_cm = confusion_matrix(y_val, best_LogReg_pred)\n",
    "LogReg_labels = LogReg.classes_"
   ]
  },
  {
   "cell_type": "code",
   "execution_count": null,
   "metadata": {},
   "outputs": [],
   "source": [
    "plt.figure(figsize=(20,5))\n",
    "\n",
    "# create heatmap of confusion matrix for Logistic Regression\n",
    "ax = plt.subplot(1,3,1)\n",
    "\n",
    "sns.heatmap(LogReg_cm, annot=True, ax = ax,fmt=\"d\");\n",
    "\n",
    "# labels, title and ticks\n",
    "ax.set_xlabel('Predicted labels');\n",
    "ax.set_ylabel('True labels'); \n",
    "ax.set_title('Confusion Matrix for Logistic Regression');\n",
    "ax.yaxis.set_tick_params(rotation=360)\n",
    "ax.xaxis.set_tick_params(rotation=90)\n",
    "\n",
    "ax.xaxis.set_ticklabels(LogReg_labels) \n",
    "ax.yaxis.set_ticklabels(LogReg_labels)\n",
    "\n",
    "# create heatmap of confusion matrix for K Nearest Neighbours\n",
    "ax2 = plt.subplot(1,3,2)\n",
    "\n",
    "sns.heatmap(best_KNN_cm, annot=True, ax = ax2,fmt=\"d\");\n",
    "\n",
    "# labels, title and ticks\n",
    "ax2.set_xlabel('Predicted labels');\n",
    "ax2.set_ylabel('True labels'); \n",
    "ax2.set_title('Confusion Matrix for K Nearest Neighbours');\n",
    "ax2.yaxis.set_tick_params(rotation=360)\n",
    "ax2.xaxis.set_tick_params(rotation=90)\n",
    "\n",
    "ax2.xaxis.set_ticklabels(best_KNN_labels) \n",
    "ax2.yaxis.set_ticklabels(best_KNN_labels)\n",
    "\n",
    "# create heatmap of confusion matrix for Decision Tree\n",
    "ax3 = plt.subplot(1,3,3)\n",
    "sns.heatmap(best_DTree_cm, annot=True, ax = ax3,fmt=\"d\");\n",
    "\n",
    "# labels, title and ticks\n",
    "ax3.set_xlabel('Predicted labels');\n",
    "ax3.set_ylabel('True labels'); \n",
    "ax3.set_title('Confusion Matrix for Decision Tree');\n",
    "ax3.yaxis.set_tick_params(rotation=360)\n",
    "ax3.xaxis.set_tick_params(rotation=90)\n",
    "\n",
    "ax3.xaxis.set_ticklabels(best_DTree_labels) \n",
    "ax3.yaxis.set_ticklabels(best_DTree_labels)"
   ]
  },
  {
   "cell_type": "markdown",
   "metadata": {},
   "source": [
    "2. Final Summary of accuracy and parameters:"
   ]
  },
  {
   "cell_type": "code",
   "execution_count": null,
   "metadata": {},
   "outputs": [],
   "source": [
    "print(f'The accuracy of our Logistic Regression model was {np.round(LogReg_accuracy*100,1)}%. \\\n",
    "Our best K Nearest Neighbours model was obtained with k = {KNN_best_k} \\\n",
    "giving an accuracy of {np.round(KNN_best_k_accuracy*100,1)}%. \\\n",
    "The best accuracy of {np.round(finalDTree_max_acc*100,1)}% in our final DecisionTreeClassifier \\\n",
    "was obtained with a max_depth of {finalDTree_max_acc_depth} \\\n",
    "and cost complexity parameter alpha of {finalDTree_max_acc_alpha}.')"
   ]
  },
  {
   "cell_type": "markdown",
   "metadata": {},
   "source": [
    "As we can see, the KNN and Decision Tree algorithms performed equally well, and we can see from their confusion matrix that their predictions for gay are similar but they differ in the other 2 classes' predictions. Overall, the models don't perform great, predicting 1/2 times correctly. This is better than a guessing mechanism at least!\n",
    "\n",
    "### Future Suggestions / Improvements\n",
    "\n",
    "As mentioned before, OkCupid needs to attract more gay and bisexual people to use their app by perhaps giving them some sort of incentive, such as fast matching (apps like grindr target these groups specifically and do very well). If there was more training data available, perhaps the model would perform much better. \n",
    "\n",
    "Perhaps more models can be tried, and the fields `essay-x` can be utilised using NLP techniques to give better predictions. This is probably a good idea as perhaps the algorithms can pick up words that bisexual and gay people use more than straight people, for example."
   ]
  }
 ],
 "metadata": {
  "kernelspec": {
   "display_name": "Python 3",
   "language": "python",
   "name": "python3"
  },
  "language_info": {
   "codemirror_mode": {
    "name": "ipython",
    "version": 3
   },
   "file_extension": ".py",
   "mimetype": "text/x-python",
   "name": "python",
   "nbconvert_exporter": "python",
   "pygments_lexer": "ipython3",
   "version": "3.7.3"
  }
 },
 "nbformat": 4,
 "nbformat_minor": 4
}
